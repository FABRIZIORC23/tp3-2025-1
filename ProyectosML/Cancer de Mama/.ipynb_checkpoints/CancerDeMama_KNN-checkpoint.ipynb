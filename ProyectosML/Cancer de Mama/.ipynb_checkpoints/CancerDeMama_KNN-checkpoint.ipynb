{
 "cells": [
  {
   "cell_type": "code",
   "execution_count": 5,
   "id": "aa9e227f",
   "metadata": {},
   "outputs": [],
   "source": [
    "import pandas as pd\n",
    "import numpy as np\n",
    "import matplotlib.pyplot as plt\n",
    "import seaborn as sb\n",
    "\n",
    "dataframe = pd.read_csv('DSCancerDeMamaSinDatosPerdidos.csv',sep=';')\n",
    "clasificadores = ['Benigno','Maligno']"
   ]
  },
  {
   "cell_type": "code",
   "execution_count": 7,
   "id": "7ea7d426",
   "metadata": {},
   "outputs": [
    {
     "data": {
      "text/html": [
       "<div>\n",
       "<style scoped>\n",
       "    .dataframe tbody tr th:only-of-type {\n",
       "        vertical-align: middle;\n",
       "    }\n",
       "\n",
       "    .dataframe tbody tr th {\n",
       "        vertical-align: top;\n",
       "    }\n",
       "\n",
       "    .dataframe thead th {\n",
       "        text-align: right;\n",
       "    }\n",
       "</style>\n",
       "<table border=\"1\" class=\"dataframe\">\n",
       "  <thead>\n",
       "    <tr style=\"text-align: right;\">\n",
       "      <th></th>\n",
       "      <th>BiRADS</th>\n",
       "      <th>AGE</th>\n",
       "      <th>SHAPE</th>\n",
       "      <th>MARGIN</th>\n",
       "      <th>DENSITY</th>\n",
       "      <th>RESULT</th>\n",
       "    </tr>\n",
       "  </thead>\n",
       "  <tbody>\n",
       "    <tr>\n",
       "      <th>0</th>\n",
       "      <td>5</td>\n",
       "      <td>67</td>\n",
       "      <td>3</td>\n",
       "      <td>5</td>\n",
       "      <td>3</td>\n",
       "      <td>1</td>\n",
       "    </tr>\n",
       "    <tr>\n",
       "      <th>1</th>\n",
       "      <td>5</td>\n",
       "      <td>58</td>\n",
       "      <td>4</td>\n",
       "      <td>5</td>\n",
       "      <td>3</td>\n",
       "      <td>1</td>\n",
       "    </tr>\n",
       "    <tr>\n",
       "      <th>2</th>\n",
       "      <td>4</td>\n",
       "      <td>28</td>\n",
       "      <td>1</td>\n",
       "      <td>1</td>\n",
       "      <td>3</td>\n",
       "      <td>0</td>\n",
       "    </tr>\n",
       "    <tr>\n",
       "      <th>3</th>\n",
       "      <td>5</td>\n",
       "      <td>57</td>\n",
       "      <td>1</td>\n",
       "      <td>5</td>\n",
       "      <td>3</td>\n",
       "      <td>1</td>\n",
       "    </tr>\n",
       "    <tr>\n",
       "      <th>4</th>\n",
       "      <td>5</td>\n",
       "      <td>76</td>\n",
       "      <td>1</td>\n",
       "      <td>4</td>\n",
       "      <td>3</td>\n",
       "      <td>1</td>\n",
       "    </tr>\n",
       "    <tr>\n",
       "      <th>5</th>\n",
       "      <td>3</td>\n",
       "      <td>42</td>\n",
       "      <td>2</td>\n",
       "      <td>1</td>\n",
       "      <td>3</td>\n",
       "      <td>1</td>\n",
       "    </tr>\n",
       "    <tr>\n",
       "      <th>6</th>\n",
       "      <td>4</td>\n",
       "      <td>36</td>\n",
       "      <td>3</td>\n",
       "      <td>1</td>\n",
       "      <td>2</td>\n",
       "      <td>0</td>\n",
       "    </tr>\n",
       "    <tr>\n",
       "      <th>7</th>\n",
       "      <td>4</td>\n",
       "      <td>60</td>\n",
       "      <td>2</td>\n",
       "      <td>1</td>\n",
       "      <td>2</td>\n",
       "      <td>0</td>\n",
       "    </tr>\n",
       "    <tr>\n",
       "      <th>8</th>\n",
       "      <td>4</td>\n",
       "      <td>54</td>\n",
       "      <td>1</td>\n",
       "      <td>1</td>\n",
       "      <td>3</td>\n",
       "      <td>0</td>\n",
       "    </tr>\n",
       "    <tr>\n",
       "      <th>9</th>\n",
       "      <td>3</td>\n",
       "      <td>52</td>\n",
       "      <td>3</td>\n",
       "      <td>4</td>\n",
       "      <td>3</td>\n",
       "      <td>0</td>\n",
       "    </tr>\n",
       "  </tbody>\n",
       "</table>\n",
       "</div>"
      ],
      "text/plain": [
       "   BiRADS  AGE  SHAPE  MARGIN  DENSITY  RESULT\n",
       "0       5   67      3       5        3       1\n",
       "1       5   58      4       5        3       1\n",
       "2       4   28      1       1        3       0\n",
       "3       5   57      1       5        3       1\n",
       "4       5   76      1       4        3       1\n",
       "5       3   42      2       1        3       1\n",
       "6       4   36      3       1        2       0\n",
       "7       4   60      2       1        2       0\n",
       "8       4   54      1       1        3       0\n",
       "9       3   52      3       4        3       0"
      ]
     },
     "execution_count": 7,
     "metadata": {},
     "output_type": "execute_result"
    }
   ],
   "source": [
    "dataframe.head(10)"
   ]
  },
  {
   "cell_type": "code",
   "execution_count": 27,
   "id": "d2f3e4e2",
   "metadata": {},
   "outputs": [
    {
     "data": {
      "text/plain": [
       "RESULT\n",
       "0    425\n",
       "1    395\n",
       "dtype: int64"
      ]
     },
     "execution_count": 27,
     "metadata": {},
     "output_type": "execute_result"
    }
   ],
   "source": [
    "dataframe.groupby('RESULT').size()"
   ]
  },
  {
   "cell_type": "code",
   "execution_count": null,
   "id": "4757f709",
   "metadata": {},
   "outputs": [],
   "source": [
    "sb.catplot(x = 'Resultado',data=dataframe,kind=\"count\",height=2.5,aspect=.8)"
   ]
  },
  {
   "cell_type": "code",
   "execution_count": 37,
   "id": "eb42bde7",
   "metadata": {},
   "outputs": [],
   "source": [
    "y = dataframe['RESULT']\n",
    "x = dataframe.drop('RESULT',axis=1)"
   ]
  },
  {
   "cell_type": "code",
   "execution_count": 35,
   "id": "25530d0f",
   "metadata": {},
   "outputs": [
    {
     "name": "stdout",
     "output_type": "stream",
     "text": [
      "         Benigno  Maligno\n",
      "Benigno      104       15\n",
      "Maligno       27      100\n",
      "              precision    recall  f1-score   support\n",
      "\n",
      "     Benigno       0.79      0.87      0.83       119\n",
      "     Maligno       0.87      0.79      0.83       127\n",
      "\n",
      "    accuracy                           0.83       246\n",
      "   macro avg       0.83      0.83      0.83       246\n",
      "weighted avg       0.83      0.83      0.83       246\n",
      "\n"
     ]
    }
   ],
   "source": [
    "from sklearn.model_selection import train_test_split\n",
    "x_train,x_test,y_train, y_test = train_test_split(x,y,test_size=0.3,random_state=30)\n",
    "\n",
    "from sklearn.neighbors import KNeighborsClassifier\n",
    "knn_mm = KNeighborsClassifier(n_neighbors=5)\n",
    "\n",
    "#Entrenar el algoritmo\n",
    "knn_mm.fit(x_train,y_train)\n",
    "predicciones = knn_mm.predict(x_test)\n",
    "\n",
    "from sklearn.metrics import classification_report, confusion_matrix\n",
    "tn, fp, fn, tp = confusion_matrix(y_test,predicciones).ravel()\n",
    "\n",
    "labels = [\"Benigno\",\"Maligno\"]\n",
    "matriz = confusion_matrix(y_test,predicciones, labels=[0,1])\n",
    "print(pd.DataFrame(matriz, index = labels, columns = labels))\n",
    "\n",
    "\n",
    "#print(tn, fp, fn, tp)\n",
    "#sb.heatmap(confusion_matrix(y_test,predicciones), annot=True, fmt=\"d\")\n",
    "#plt.title('Confusion Matrix')\n",
    "#plt.xlabel('Predicted')\n",
    "#plt.ylabel('True')\n",
    "\n",
    "print(classification_report(y_test,predicciones,target_names=clasificadores))"
   ]
  },
  {
   "cell_type": "code",
   "execution_count": 19,
   "id": "a2061c75",
   "metadata": {},
   "outputs": [
    {
     "data": {
      "image/png": "[encoded data removed]",
      "text/plain": [
       "<Figure size 200x250 with 1 Axes>"
      ]
     },
     "metadata": {},
     "output_type": "display_data"
    }
   ],
   "source": [
    "# MOSTRAR GRAFICO DE BARRAS\n",
    "import seaborn as sb\n",
    "\n",
    "# Aseguramos que los números son enteros\n",
    "dataframe['RESULT'] = dataframe['RESULT'].astype(int)\n",
    "\n",
    "sb.catplot(x='RESULT', hue='RESULT', data=dataframe, kind='count', \n",
    "           height=2.5, aspect=0.8, palette={0:\"blue\", 1:\"red\"}, legend=False)\n",
    "plt.title(\"Distribución de Clases\")\n",
    "plt.show()\n"
   ]
  },
  {
   "cell_type": "code",
   "execution_count": 21,
   "id": "fc56516f-f499-4211-9505-df7fbd70b77b",
   "metadata": {},
   "outputs": [],
   "source": [
    "y= dataframe['RESULT']\n",
    "x= dataframe.drop('RESULT', axis=1)"
   ]
  },
  {
   "cell_type": "code",
   "execution_count": 25,
   "id": "f25d77b5-7c0d-4e4e-b9c3-3a72842d67d4",
   "metadata": {},
   "outputs": [
    {
     "data": {
      "text/plain": [
       "<Axes: >"
      ]
     },
     "execution_count": 25,
     "metadata": {},
     "output_type": "execute_result"
    },
    {
     "data": {
      "image/png": "[encoded data removed]",
      "text/plain": [
       "<Figure size 640x480 with 2 Axes>"
      ]
     },
     "metadata": {},
     "output_type": "display_data"
    }
   ],
   "source": [
    "from sklearn.model_selection import train_test_split\n",
    "x_train, x_test, y_train, y_test = train_test_split(x, y, test_size=0.3, random_state=30)\n",
    "\n",
    "from sklearn.neighbors import KNeighborsClassifier\n",
    "knn_mm = KNeighborsClassifier(n_neighbors=1)\n",
    "\n",
    "# ENTRENAR EL ALGORITMO\n",
    "knn_mm.fit(x_train, y_train)\n",
    "\n",
    "predicciones = knn_mm.predict(x_test)\n",
    "\n",
    "from sklearn.metrics import classification_report, confusion_matrix\n",
    "tn, fp, fn, tp = confusion_matrix(y_test, predicciones).ravel()\n",
    "\n",
    "sb.heatmap(confusion_matrix(y_test, predicciones), annot=True, fmt=\"d\")\n"
   ]
  },
  {
   "cell_type": "code",
   "execution_count": 31,
   "id": "b49ecfe0-74ca-4119-8c64-ca814f63ad90",
   "metadata": {},
   "outputs": [
    {
     "data": {
      "text/plain": [
       "[<matplotlib.lines.Line2D at 0x1adee3c91c0>]"
      ]
     },
     "execution_count": 31,
     "metadata": {},
     "output_type": "execute_result"
    },
    {
     "data": {
      "image/png": "[encoded data removed]",
      "text/plain": [
       "<Figure size 640x480 with 1 Axes>"
      ]
     },
     "metadata": {},
     "output_type": "display_data"
    }
   ],
   "source": [
    "tasa_error = []\n",
    "for i in range(1,25):\n",
    "    knn_mm = KNeighborsClassifier(n_neighbors=i)\n",
    "    knn_mm.fit(x_train, y_train)\n",
    "    prediccion_i = knn_mm.predict(x_test)\n",
    "    tasa_error.append(np.mean(prediccion_i != y_test))\n",
    "valores = range(1,25)\n",
    "plt.plot(valores, tasa_error, color='green', marker='o', markerfacecolor = 'red', markersize='8')"
   ]
  },
  {
   "cell_type": "code",
   "execution_count": 47,
   "id": "4a3398a4-1edc-4964-8bb6-83b160c0bbe0",
   "metadata": {},
   "outputs": [
    {
     "data": {
      "image/png": "[encoded data removed]",
      "text/plain": [
       "<Figure size 640x480 with 2 Axes>"
      ]
     },
     "metadata": {},
     "output_type": "display_data"
    },
    {
     "name": "stdout",
     "output_type": "stream",
     "text": [
      "              precision    recall  f1-score   support\n",
      "\n",
      "     Benigno       0.80      0.88      0.84       119\n",
      "     Maligno       0.88      0.80      0.83       127\n",
      "\n",
      "    accuracy                           0.84       246\n",
      "   macro avg       0.84      0.84      0.84       246\n",
      "weighted avg       0.84      0.84      0.84       246\n",
      "\n"
     ]
    }
   ],
   "source": [
    "from sklearn.neighbors import KNeighborsClassifier\n",
    "from sklearn.metrics import confusion_matrix, classification_report\n",
    "import seaborn as sb\n",
    "import matplotlib.pyplot as plt\n",
    "\n",
    "# Entrenamiento del modelo KNN\n",
    "knn_mm = KNeighborsClassifier(n_neighbors=3)\n",
    "knn_mm.fit(x_train, y_train)\n",
    "\n",
    "# Predicciones del modelo\n",
    "predicciones = knn_mm.predict(x_test)\n",
    "\n",
    "# Matriz de confusión visualizada con Seaborn\n",
    "sb.heatmap(confusion_matrix(y_test, predicciones), annot=True, fmt=\"d\")\n",
    "plt.title('Matriz de Confusión')\n",
    "plt.xlabel('Predicción')\n",
    "plt.ylabel('Real')\n",
    "plt.show()\n",
    "\n",
    "# Reporte de métricas de clasificación\n",
    "print(classification_report(y_test, predicciones, target_names=clasificadores))\n"
   ]
  },
  {
   "cell_type": "code",
   "execution_count": 49,
   "id": "7b6257c6-2f5f-41c2-9c3d-805a406213a0",
   "metadata": {},
   "outputs": [
    {
     "name": "stdout",
     "output_type": "stream",
     "text": [
      "[0]\n",
      "[[0.66666667 0.33333333]]\n"
     ]
    },
    {
     "name": "stderr",
     "output_type": "stream",
     "text": [
      "C:\\Users\\Alumno\\anaconda3\\Lib\\site-packages\\sklearn\\base.py:493: UserWarning: X does not have valid feature names, but KNeighborsClassifier was fitted with feature names\n",
      "  warnings.warn(\n",
      "C:\\Users\\Alumno\\anaconda3\\Lib\\site-packages\\sklearn\\base.py:493: UserWarning: X does not have valid feature names, but KNeighborsClassifier was fitted with feature names\n",
      "  warnings.warn(\n"
     ]
    }
   ],
   "source": [
    "# A PROBAR \n",
    "print (knn_mm.predict([[4,65,3,5,3]]))\n",
    "print (knn_mm.predict_proba([[4,65,3,5,3]]))"
   ]
  },
  {
   "cell_type": "code",
   "execution_count": 57,
   "id": "0d15b084-ad71-4e69-a05d-d879c5d7b517",
   "metadata": {},
   "outputs": [
    {
     "name": "stdout",
     "output_type": "stream",
     "text": [
      "[0]\n",
      "[[0.66666667 0.33333333]]\n"
     ]
    }
   ],
   "source": [
    "import pandas as pd\n",
    "\n",
    "\n",
    "nuevo_dato = pd.DataFrame([[4, 65, 3, 5, 3]], columns=x.columns)\n",
    "\n",
    "# Predicción de la clase\n",
    "print(knn_mm.predict(nuevo_dato))\n",
    "\n",
    "# Predicción de las probabilidades de pertenencia a cada clase\n",
    "print(knn_mm.predict_proba(nuevo_dato))\n"
   ]
  },
  {
   "cell_type": "code",
   "execution_count": null,
   "id": "83ab9a30-7e5b-40c9-9038-ee02b2224ad0",
   "metadata": {},
   "outputs": [],
   "source": []
  }
 ],
 "metadata": {
  "kernelspec": {
   "display_name": "Python [conda env:base] *",
   "language": "python",
   "name": "conda-base-py"
  },
  "language_info": {
   "codemirror_mode": {
    "name": "ipython",
    "version": 3
   },
   "file_extension": ".py",
   "mimetype": "text/x-python",
   "name": "python",
   "nbconvert_exporter": "python",
   "pygments_lexer": "ipython3",
   "version": "3.12.7"
  }
 },
 "nbformat": 4,
 "nbformat_minor": 5
}
