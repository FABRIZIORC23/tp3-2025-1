{
 "cells": [
  {
   "cell_type": "markdown",
   "id": "fe69eed9-7820-435e-b84c-a7e1e2654c05",
   "metadata": {},
   "source": [
    "# Semana02\n",
    "Mg. Fabrizio Renato Rios Cáceres"
   ]
  },
  {
   "cell_type": "code",
   "execution_count": null,
   "id": "f7bea553-fe32-4153-bb67-556fb1643816",
   "metadata": {},
   "outputs": [],
   "source": [
    "Temas"
   ]
  },
  {
   "cell_type": "code",
   "execution_count": 3,
   "id": "c28e3fac-0cdf-4336-8ff9-c2e56ba52fac",
   "metadata": {},
   "outputs": [
    {
     "name": "stdout",
     "output_type": "stream",
     "text": [
      "['ALALUNA', 'AVILA', 'CABANILLAS', 'CAMARGO']\n"
     ]
    }
   ],
   "source": [
    "# 1.1 Listas\n",
    "aula = ['ALALUNA', 'AVILA', 'CABANILLAS', 'CAMARGO']\n",
    "print(aula)"
   ]
  },
  {
   "cell_type": "code",
   "execution_count": 5,
   "id": "c9c7b95c-0cdd-4ff5-bfc3-77604f166032",
   "metadata": {},
   "outputs": [
    {
     "name": "stdout",
     "output_type": "stream",
     "text": [
      "ALALUNA\n",
      "AVILA\n"
     ]
    }
   ],
   "source": [
    "print(aula[0])\n",
    "print(aula[1])\n"
   ]
  },
  {
   "cell_type": "code",
   "execution_count": 7,
   "id": "024fade4-756c-42b5-9f3e-74d86c4e0a15",
   "metadata": {},
   "outputs": [],
   "source": [
    "aula[1] = 'Chavez'"
   ]
  },
  {
   "cell_type": "code",
   "execution_count": 9,
   "id": "fb2d2a2e-dadd-4c48-87a3-fdc26e517aff",
   "metadata": {},
   "outputs": [
    {
     "data": {
      "text/plain": [
       "['ALALUNA', 'Chavez', 'CABANILLAS', 'CAMARGO']"
      ]
     },
     "execution_count": 9,
     "metadata": {},
     "output_type": "execute_result"
    }
   ],
   "source": [
    "aula"
   ]
  },
  {
   "cell_type": "code",
   "execution_count": 11,
   "id": "e6c0111e-a7de-4b53-a40b-03fd501f45d5",
   "metadata": {},
   "outputs": [
    {
     "data": {
      "text/plain": [
       "['ALALUNA', 'Chavez', 'CABANILLAS', 'CAMARGO', 'Hermitaño', 'Muller']"
      ]
     },
     "execution_count": 11,
     "metadata": {},
     "output_type": "execute_result"
    }
   ],
   "source": [
    "aula.append(\"Hermitaño\")\n",
    "aula.append(\"Muller\")\n",
    "aula"
   ]
  },
  {
   "cell_type": "code",
   "execution_count": null,
   "id": "6ba57042-5a95-4001-af1d-55a53989dd57",
   "metadata": {},
   "outputs": [],
   "source": []
  }
 ],
 "metadata": {
  "kernelspec": {
   "display_name": "Python [conda env:base] *",
   "language": "python",
   "name": "conda-base-py"
  },
  "language_info": {
   "codemirror_mode": {
    "name": "ipython",
    "version": 3
   },
   "file_extension": ".py",
   "mimetype": "text/x-python",
   "name": "python",
   "nbconvert_exporter": "python",
   "pygments_lexer": "ipython3",
   "version": "3.12.7"
  }
 },
 "nbformat": 4,
 "nbformat_minor": 5
}
