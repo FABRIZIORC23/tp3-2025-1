{
 "cells": [
  {
   "cell_type": "markdown",
   "id": "6d9dc233-1502-4ac8-ba95-2c24bd55af28",
   "metadata": {},
   "source": [
    "# Semana 03\n",
    "\n",
    "Rios Cáceres, Fabrizio Renato\n",
    "\n"
   ]
  },
  {
   "cell_type": "markdown",
   "id": "07486b53-185c-4281-a050-6290e3bdaeff",
   "metadata": {},
   "source": [
    "# Temas\n",
    "1. Colección de datos\n",
    "2. Estructuras de datos Decisivas y Repetitivas\n",
    "3. Clases y Objetos\n",
    "4. Funciones"
   ]
  },
  {
   "cell_type": "markdown",
   "id": "c2569f35-4d1e-4128-80da-cb92959aa723",
   "metadata": {},
   "source": [
    "# 1. Colecciones"
   ]
  },
  {
   "cell_type": "code",
   "execution_count": 17,
   "id": "f83ddfe1-400f-49b3-8a51-d583e1ef279d",
   "metadata": {},
   "outputs": [
    {
     "name": "stdout",
     "output_type": "stream",
     "text": [
      "['Bernaloa', 'Chipana', 'Gomez', 'Navarro']\n"
     ]
    }
   ],
   "source": [
    "# 1.1 Listas \n",
    "# Es una colección de elementos que puede ser ordenada, modificada,etc...\n",
    "# Se identifica por los corchetes\n",
    "# Ejemplos :\n",
    "aula = ['Bernaloa', 'Chipana', 'Gomez', 'Navarro']\n",
    "print(aula)"
   ]
  },
  {
   "cell_type": "code",
   "execution_count": 19,
   "id": "94bd6596-a261-4b94-bff2-6f1fad529088",
   "metadata": {},
   "outputs": [
    {
     "data": {
      "text/plain": [
       "['Bernaloa', 'Chipana', 'Gomez', 'Navarro']"
      ]
     },
     "execution_count": 19,
     "metadata": {},
     "output_type": "execute_result"
    }
   ],
   "source": [
    "# Tambien se puede impromir con solo mencionar la lista\n",
    "aula\n"
   ]
  },
  {
   "cell_type": "code",
   "execution_count": 21,
   "id": "f4b50956-dd04-4d3d-bb83-a0a0653bef1b",
   "metadata": {},
   "outputs": [
    {
     "name": "stdout",
     "output_type": "stream",
     "text": [
      "Bernaloa\n",
      "Chipana\n"
     ]
    }
   ],
   "source": [
    "# Podemos extraer cada elementos por su posición\n",
    "print(aula[0])\n",
    "print(aula[1])"
   ]
  },
  {
   "cell_type": "code",
   "execution_count": 23,
   "id": "28007252-9b25-4ca7-adbe-958460fca325",
   "metadata": {},
   "outputs": [
    {
     "name": "stdout",
     "output_type": "stream",
     "text": [
      "chavez\n"
     ]
    }
   ],
   "source": [
    "# Puedo asignar un valor a una posición de la lista\n",
    "aula[1] = 'chavez'\n",
    "print(aula[1])"
   ]
  },
  {
   "cell_type": "code",
   "execution_count": 25,
   "id": "5f83892b-7e52-4ca1-b8d9-f8d6c6035c2b",
   "metadata": {},
   "outputs": [
    {
     "data": {
      "text/plain": [
       "['Bernaloa', 'chavez', 'Gomez', 'Navarro']"
      ]
     },
     "execution_count": 25,
     "metadata": {},
     "output_type": "execute_result"
    }
   ],
   "source": [
    "# Mostramos ocomo dquedo\n",
    "aula"
   ]
  },
  {
   "cell_type": "code",
   "execution_count": 27,
   "id": "a8547ac3-1f56-495c-91de-a396f558e566",
   "metadata": {},
   "outputs": [
    {
     "data": {
      "text/plain": [
       "['Bernaloa', 'chavez', 'Gomez', 'Navarro', 'Hermitaño', 'Gomez']"
      ]
     },
     "execution_count": 27,
     "metadata": {},
     "output_type": "execute_result"
    }
   ],
   "source": [
    "# Para agregar un elemento utilizamos 'append'\n",
    "aula.append(\"Hermitaño\")\n",
    "aula.append(\"Gomez\")\n",
    "aula"
   ]
  },
  {
   "cell_type": "code",
   "execution_count": 29,
   "id": "9ce5bb18-3cde-454d-9991-5e4d7546bc41",
   "metadata": {},
   "outputs": [],
   "source": [
    "# Para eliminarelementos utilizamos remove[]\n",
    "aula.remove(\"Bernaloa\")"
   ]
  },
  {
   "cell_type": "code",
   "execution_count": 31,
   "id": "db41c40d-b60f-435f-842b-76d1512bcbc7",
   "metadata": {},
   "outputs": [
    {
     "data": {
      "text/plain": [
       "['chavez', 'Gomez', 'Navarro', 'Hermitaño', 'Gomez']"
      ]
     },
     "execution_count": 31,
     "metadata": {},
     "output_type": "execute_result"
    }
   ],
   "source": [
    "aula"
   ]
  },
  {
   "cell_type": "code",
   "execution_count": 33,
   "id": "563708d8-1b17-4816-8ff8-e4e664459390",
   "metadata": {},
   "outputs": [],
   "source": [
    "# Si hubiera varios elementos de valores iguales se elimina la primera coincidencia\n",
    "aula.remove(\"Gomez\")"
   ]
  },
  {
   "cell_type": "code",
   "execution_count": 35,
   "id": "7ed779c9-2d7a-43f2-96d8-2f5f330c7e8b",
   "metadata": {},
   "outputs": [
    {
     "data": {
      "text/plain": [
       "['chavez', 'Navarro', 'Hermitaño', 'Gomez']"
      ]
     },
     "execution_count": 35,
     "metadata": {},
     "output_type": "execute_result"
    }
   ],
   "source": [
    "aula"
   ]
  },
  {
   "cell_type": "code",
   "execution_count": 39,
   "id": "d3363441-fc89-4879-b6a8-d95e1ff3f530",
   "metadata": {},
   "outputs": [
    {
     "data": {
      "text/plain": [
       "('Bernaloa', 'Chipana', 'Gomez', 'Navarro')"
      ]
     },
     "execution_count": 39,
     "metadata": {},
     "output_type": "execute_result"
    }
   ],
   "source": [
    "#1.2 TUPLAS\n",
    "tupla_aula = ('Bernaloa', 'Chipana', 'Gomez', 'Navarro')\n",
    "tupla_aula"
   ]
  },
  {
   "cell_type": "code",
   "execution_count": 41,
   "id": "aabb3c03-38ec-4d10-aaab-e19ca952bb1a",
   "metadata": {},
   "outputs": [
    {
     "data": {
      "text/plain": [
       "'Gomez'"
      ]
     },
     "execution_count": 41,
     "metadata": {},
     "output_type": "execute_result"
    }
   ],
   "source": [
    "tupla_aula[2]"
   ]
  },
  {
   "cell_type": "code",
   "execution_count": 45,
   "id": "26ccb871-53e5-4c4f-8f1a-1699ffa95ae6",
   "metadata": {},
   "outputs": [
    {
     "data": {
      "text/plain": [
       "4"
      ]
     },
     "execution_count": 45,
     "metadata": {},
     "output_type": "execute_result"
    }
   ],
   "source": [
    "len(tupla_aula)"
   ]
  },
  {
   "cell_type": "code",
   "execution_count": 47,
   "id": "bc33dea7-1a22-43ef-a65b-2059d0721d29",
   "metadata": {},
   "outputs": [
    {
     "data": {
      "text/plain": [
       "{'Bernaloa', 'Chipana', 'Gomez', 'Navarro'}"
      ]
     },
     "execution_count": 47,
     "metadata": {},
     "output_type": "execute_result"
    }
   ],
   "source": [
    "#1.3 Conjuntos \n",
    "#Es una colección de elementos que no está ordenado\n",
    "#(Significa que no tiene un índice) \n",
    "conjunto_aula = {'Bernaloa','Chipana', 'Gomez', 'Navarro'}\n",
    "conjunto_aula"
   ]
  },
  {
   "cell_type": "code",
   "execution_count": 53,
   "id": "2c122915-db84-41f3-ada1-4df83795630d",
   "metadata": {},
   "outputs": [
    {
     "name": "stdout",
     "output_type": "stream",
     "text": [
      "Bernaloa\n",
      "Chipana\n",
      "Gomez\n",
      "Navarro\n"
     ]
    }
   ],
   "source": [
    "for alumno in conjunto_aula:\n",
    "    print(alumno)"
   ]
  },
  {
   "cell_type": "code",
   "execution_count": 59,
   "id": "1e57f97c-503c-4f77-b9b4-bbe1a66086ac",
   "metadata": {},
   "outputs": [],
   "source": [
    "# conjunto_aula[2]"
   ]
  },
  {
   "cell_type": "code",
   "execution_count": 65,
   "id": "3003c0c9-8be5-4c72-bebc-3de94ffa598d",
   "metadata": {},
   "outputs": [
    {
     "data": {
      "text/plain": [
       "{'Bernaloa', 'Chipana', 'Gomez', 'Navarro', 'Palomino'}"
      ]
     },
     "execution_count": 65,
     "metadata": {},
     "output_type": "execute_result"
    }
   ],
   "source": [
    "#Para agregar utilizamos la función add\n",
    "conjunto_aula.add(\"Palomino\")\n",
    "conjunto_aula"
   ]
  },
  {
   "cell_type": "code",
   "execution_count": 67,
   "id": "8dd92822-750a-4c10-a582-d25364663cb0",
   "metadata": {},
   "outputs": [
    {
     "data": {
      "text/plain": [
       "{'Bernaloa', 'Gomez', 'Navarro', 'Palomino'}"
      ]
     },
     "execution_count": 67,
     "metadata": {},
     "output_type": "execute_result"
    }
   ],
   "source": [
    "# para eliminar \n",
    "conjunto_aula.remove(\"Chipana\")\n",
    "conjunto_aula"
   ]
  },
  {
   "cell_type": "code",
   "execution_count": 69,
   "id": "4152bffa-b473-4b27-9022-9f302c63d373",
   "metadata": {},
   "outputs": [
    {
     "data": {
      "text/plain": [
       "{2: 'Bernaola',\n",
       " '1': 'Chipana',\n",
       " 'dos': 'Gomez',\n",
       " '3': 'Navarro',\n",
       " '0': 'Palomino'}"
      ]
     },
     "execution_count": 69,
     "metadata": {},
     "output_type": "execute_result"
    }
   ],
   "source": [
    "#1.4 Diccionarios\n",
    "#Es un colección de elementos, que están indexados \n",
    "# No están ordenados y se pueden modificar \n",
    "# Son escritos entre llaves y están formados por parres de elementos\n",
    "# Indice: valor\n",
    "diccionario_aula = {2:'Bernaola', '1':'Chipana', 'dos': 'Gomez', '3': 'Navarro', '0':'Palomino'}\n",
    "diccionario_aula"
   ]
  },
  {
   "cell_type": "code",
   "execution_count": 71,
   "id": "82f9fbba-1237-4059-8844-1d48509b6152",
   "metadata": {},
   "outputs": [
    {
     "data": {
      "text/plain": [
       "'Palomino'"
      ]
     },
     "execution_count": 71,
     "metadata": {},
     "output_type": "execute_result"
    }
   ],
   "source": [
    "diccionario_aula['0']"
   ]
  },
  {
   "cell_type": "code",
   "execution_count": 73,
   "id": "4e334574-3330-41e3-bd8d-0d4894774612",
   "metadata": {},
   "outputs": [
    {
     "data": {
      "text/plain": [
       "'Bernaola'"
      ]
     },
     "execution_count": 73,
     "metadata": {},
     "output_type": "execute_result"
    }
   ],
   "source": [
    "diccionario_aula[2]"
   ]
  },
  {
   "cell_type": "code",
   "execution_count": 75,
   "id": "ad3273ae-b613-4d00-aef9-5df015b6dfcc",
   "metadata": {},
   "outputs": [
    {
     "data": {
      "text/plain": [
       "{2: 'Bernaola',\n",
       " '1': 'Chipana',\n",
       " 'dos': 'Gomez',\n",
       " '3': 'Navarro',\n",
       " '0': 'Palomino',\n",
       " '20': 'Vilca'}"
      ]
     },
     "execution_count": 75,
     "metadata": {},
     "output_type": "execute_result"
    }
   ],
   "source": [
    "# Para añadir un par de elemntos de diccionario hacemos:\n",
    "diccionario_aula['20'] = 'Vilca'\n",
    "diccionario_aula"
   ]
  },
  {
   "cell_type": "code",
   "execution_count": 77,
   "id": "9ecb9555-f5d8-436a-8e0e-e5e97ae23cc8",
   "metadata": {},
   "outputs": [
    {
     "data": {
      "text/plain": [
       "{'1': 'Chipana',\n",
       " 'dos': 'Gomez',\n",
       " '3': 'Navarro',\n",
       " '0': 'Palomino',\n",
       " '20': 'Vilca'}"
      ]
     },
     "execution_count": 77,
     "metadata": {},
     "output_type": "execute_result"
    }
   ],
   "source": [
    "#Para eliminar un valor se utiliza pop()\n",
    "#Por ejemplos, eliminar el elemento de indicie dos.ejemplo: para eliminar \n",
    "diccionario_aula.pop(2)\n",
    "diccionario_aula"
   ]
  },
  {
   "cell_type": "code",
   "execution_count": 79,
   "id": "77113b35-4a11-4fdc-9167-8b7f3507d65f",
   "metadata": {},
   "outputs": [
    {
     "data": {
      "text/plain": [
       "{'1': 'Chipana', '3': 'Navarro', '0': 'Palomino', '20': 'Vilca'}"
      ]
     },
     "execution_count": 79,
     "metadata": {},
     "output_type": "execute_result"
    }
   ],
   "source": [
    "del(diccionario_aula[\"dos\"])\n",
    "diccionario_aula"
   ]
  },
  {
   "cell_type": "code",
   "execution_count": 89,
   "id": "749e188e-fc15-44b4-8371-3f756ca6f1ae",
   "metadata": {},
   "outputs": [
    {
     "name": "stdout",
     "output_type": "stream",
     "text": [
      "1\n",
      "3\n",
      "0\n",
      "20\n"
     ]
    }
   ],
   "source": [
    "# Para recorrer todos los elementos podemos utilizar for\n",
    "# En este ejemplo devuelve los índices \n",
    "for indice in diccionario_aula:\n",
    "    print(indice)"
   ]
  },
  {
   "cell_type": "code",
   "execution_count": 91,
   "id": "ba790663-5ace-44f9-ae06-aa3765c1348c",
   "metadata": {},
   "outputs": [
    {
     "name": "stdout",
     "output_type": "stream",
     "text": [
      "1 Chipana\n",
      "3 Navarro\n",
      "0 Palomino\n",
      "20 Vilca\n"
     ]
    }
   ],
   "source": [
    "# Para obtener el indice y el valor de cada elemento utilizamos items()\n",
    "for indice , valor in diccionario_aula.items():\n",
    "    print(indice, valor)"
   ]
  },
  {
   "cell_type": "code",
   "execution_count": null,
   "id": "ac02c463-c821-4dfc-bbf3-adcbfbdf34fd",
   "metadata": {},
   "outputs": [],
   "source": [
    "Ejercicio: # 1.5. Ejercicio # Dado una lista de [BERNAL, BERNAOLA,\n",
    "CABALLERO, CALDERON, CARRASCO, CENTENO, CHALQUE, CHAVEZ, CONDORI, CRUZ,\n",
    "PALACIOS, PALOMINO, QUISPE, RAMOS, RODAS, SILVERA, TALAVERA, TINEO, VICTORIO, VILCA, ZEA]\n",
    "# Diseñar un código que muestre si el apellido de un estudiante (Ingresado por teclado) forma parte de la lista # tiempo: 12 minutos"
   ]
  },
  {
   "cell_type": "code",
   "execution_count": 93,
   "id": "6b19b9d6-ab98-4007-8ab6-f9355bfc0f74",
   "metadata": {},
   "outputs": [
    {
     "name": "stdout",
     "output_type": "stream",
     "text": [
      "{'PALOMINO', 'SILVERA', 'VICTORIO', 'CHALQUE', 'RAMOS', 'VILCA', 'PALACIOS', 'TINEO', 'CRUZ', 'CABALLERO', 'CARRASCO', 'ZEA', 'CHAVEZ', 'BERNAOLA', 'BERNAL', 'CONDORI', 'TALAVERA', 'CALDERON', 'CENTENO', 'QUISPE', 'RODAS'}\n"
     ]
    }
   ],
   "source": [
    "lista_aula = {'BERNAL', 'BERNAOLA',\n",
    "'CABALLERO', 'CALDERON', 'CARRASCO', 'CENTENO', 'CHALQUE', 'CHAVEZ', 'CONDORI', 'CRUZ',\n",
    "'PALACIOS', 'PALOMINO', 'QUISPE', 'RAMOS', 'RODAS', 'SILVERA', 'TALAVERA', 'TINEO', 'VICTORIO', 'VILCA', 'ZEA'}\n",
    "print(lista_aula)"
   ]
  },
  {
   "cell_type": "code",
   "execution_count": null,
   "id": "4485c200-8242-40f9-b0f4-fbec4f509023",
   "metadata": {},
   "outputs": [
    {
     "name": "stdin",
     "output_type": "stream",
     "text": [
      "Ingrese un apellido:  GAAA\n"
     ]
    },
    {
     "name": "stdout",
     "output_type": "stream",
     "text": [
      "No, el apellido no está en la lista. Intente nuevamente.\n"
     ]
    }
   ],
   "source": [
    "lista_aula = {'BERNAL', 'BERNAOLA', 'CABALLERO', 'CALDERON', 'CARRASCO', 'CENTENO', 'CHALQUE', 'CHAVEZ', 'CONDORI', 'CRUZ',\n",
    "'PALACIOS', 'PALOMINO', 'QUISPE', 'RAMOS', 'RODAS', 'SILVERA', 'TALAVERA', 'TINEO', 'VICTORIO', 'VILCA', 'ZEA'}\n",
    "\n",
    "while True:\n",
    "    # Solicitamos al usuario el apellido que desea buscar\n",
    "    busca = input(\"Ingrese un apellido: \")\n",
    "    \n",
    "    # Verificamos si el apellido está en la lista\n",
    "    if busca in lista_aula:\n",
    "        print(\"Sí, el apellido está en la lista.\")\n",
    "        break  # Salimos del bucle si encontramos el apellido\n",
    "    else:\n",
    "        print(\"No, el apellido no está en la lista. Intente nuevamente.\")\n",
    "\n",
    "  "
   ]
  },
  {
   "cell_type": "code",
   "execution_count": null,
   "id": "3dbb24fb-1330-4a3e-a30c-20c442a5b39a",
   "metadata": {},
   "outputs": [],
   "source": []
  }
 ],
 "metadata": {
  "kernelspec": {
   "display_name": "Python [conda env:base] *",
   "language": "python",
   "name": "conda-base-py"
  },
  "language_info": {
   "codemirror_mode": {
    "name": "ipython",
    "version": 3
   },
   "file_extension": ".py",
   "mimetype": "text/x-python",
   "name": "python",
   "nbconvert_exporter": "python",
   "pygments_lexer": "ipython3",
   "version": "3.12.7"
  }
 },
 "nbformat": 4,
 "nbformat_minor": 5
}
