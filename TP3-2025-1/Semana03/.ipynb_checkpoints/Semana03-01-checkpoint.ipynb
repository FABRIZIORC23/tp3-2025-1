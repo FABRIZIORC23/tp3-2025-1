{
 "cells": [
  {
   "cell_type": "markdown",
   "id": "6d9dc233-1502-4ac8-ba95-2c24bd55af28",
   "metadata": {},
   "source": [
    "# Semana 03\n",
    "\n",
    "Rios Cáceres, Fabrizio Renato\n",
    "\n"
   ]
  },
  {
   "cell_type": "markdown",
   "id": "07486b53-185c-4281-a050-6290e3bdaeff",
   "metadata": {},
   "source": [
    "# Temas\n",
    "1. Colección de datos\n",
    "2. Estructuras de datos Decisivas y Repetitivas\n",
    "3. Clases y Objetos\n",
    "4. Funciones"
   ]
  },
  {
   "cell_type": "markdown",
   "id": "c2569f35-4d1e-4128-80da-cb92959aa723",
   "metadata": {},
   "source": [
    "# 1. Colecciones"
   ]
  },
  {
   "cell_type": "code",
   "execution_count": 17,
   "id": "f83ddfe1-400f-49b3-8a51-d583e1ef279d",
   "metadata": {},
   "outputs": [
    {
     "name": "stdout",
     "output_type": "stream",
     "text": [
      "['Bernaloa', 'Chipana', 'Gomez', 'Navarro']\n"
     ]
    }
   ],
   "source": [
    "# 1.1 Listas \n",
    "# Es una colección de elementos que puede ser ordenada, modificada,etc...\n",
    "# Se identifica por los corchetes\n",
    "# Ejemplos :\n",
    "aula = ['Bernaloa', 'Chipana', 'Gomez', 'Navarro']\n",
    "print(aula)"
   ]
  },
  {
   "cell_type": "code",
   "execution_count": 19,
   "id": "94bd6596-a261-4b94-bff2-6f1fad529088",
   "metadata": {},
   "outputs": [
    {
     "data": {
      "text/plain": [
       "['Bernaloa', 'Chipana', 'Gomez', 'Navarro']"
      ]
     },
     "execution_count": 19,
     "metadata": {},
     "output_type": "execute_result"
    }
   ],
   "source": [
    "# Tambien se puede impromir con solo mencionar la lista\n",
    "aula\n"
   ]
  },
  {
   "cell_type": "code",
   "execution_count": 21,
   "id": "f4b50956-dd04-4d3d-bb83-a0a0653bef1b",
   "metadata": {},
   "outputs": [
    {
     "name": "stdout",
     "output_type": "stream",
     "text": [
      "Bernaloa\n",
      "Chipana\n"
     ]
    }
   ],
   "source": [
    "# Podemos extraer cada elementos por su posición\n",
    "print(aula[0])\n",
    "print(aula[1])"
   ]
  },
  {
   "cell_type": "code",
   "execution_count": 23,
   "id": "28007252-9b25-4ca7-adbe-958460fca325",
   "metadata": {},
   "outputs": [
    {
     "name": "stdout",
     "output_type": "stream",
     "text": [
      "chavez\n"
     ]
    }
   ],
   "source": [
    "# Puedo asignar un valor a una posición de la lista\n",
    "aula[1] = 'chavez'\n",
    "print(aula[1])"
   ]
  },
  {
   "cell_type": "code",
   "execution_count": 25,
   "id": "5f83892b-7e52-4ca1-b8d9-f8d6c6035c2b",
   "metadata": {},
   "outputs": [
    {
     "data": {
      "text/plain": [
       "['Bernaloa', 'chavez', 'Gomez', 'Navarro']"
      ]
     },
     "execution_count": 25,
     "metadata": {},
     "output_type": "execute_result"
    }
   ],
   "source": [
    "# Mostramos ocomo dquedo\n",
    "aula"
   ]
  },
  {
   "cell_type": "code",
   "execution_count": 27,
   "id": "a8547ac3-1f56-495c-91de-a396f558e566",
   "metadata": {},
   "outputs": [
    {
     "data": {
      "text/plain": [
       "['Bernaloa', 'chavez', 'Gomez', 'Navarro', 'Hermitaño', 'Gomez']"
      ]
     },
     "execution_count": 27,
     "metadata": {},
     "output_type": "execute_result"
    }
   ],
   "source": [
    "# Para agregar un elemento utilizamos 'append'\n",
    "aula.append(\"Hermitaño\")\n",
    "aula.append(\"Gomez\")\n",
    "aula"
   ]
  },
  {
   "cell_type": "code",
   "execution_count": 29,
   "id": "9ce5bb18-3cde-454d-9991-5e4d7546bc41",
   "metadata": {},
   "outputs": [],
   "source": [
    "# Para eliminarelementos utilizamos remove[]\n",
    "aula.remove(\"Bernaloa\")"
   ]
  },
  {
   "cell_type": "code",
   "execution_count": 31,
   "id": "db41c40d-b60f-435f-842b-76d1512bcbc7",
   "metadata": {},
   "outputs": [
    {
     "data": {
      "text/plain": [
       "['chavez', 'Gomez', 'Navarro', 'Hermitaño', 'Gomez']"
      ]
     },
     "execution_count": 31,
     "metadata": {},
     "output_type": "execute_result"
    }
   ],
   "source": [
    "aula"
   ]
  },
  {
   "cell_type": "code",
   "execution_count": 33,
   "id": "563708d8-1b17-4816-8ff8-e4e664459390",
   "metadata": {},
   "outputs": [],
   "source": [
    "# Si hubiera varios elementos de valores iguales se elimina la primera coincidencia\n",
    "aula.remove(\"Gomez\")"
   ]
  },
  {
   "cell_type": "code",
   "execution_count": 35,
   "id": "7ed779c9-2d7a-43f2-96d8-2f5f330c7e8b",
   "metadata": {},
   "outputs": [
    {
     "data": {
      "text/plain": [
       "['chavez', 'Navarro', 'Hermitaño', 'Gomez']"
      ]
     },
     "execution_count": 35,
     "metadata": {},
     "output_type": "execute_result"
    }
   ],
   "source": [
    "aula"
   ]
  },
  {
   "cell_type": "code",
   "execution_count": 39,
   "id": "d3363441-fc89-4879-b6a8-d95e1ff3f530",
   "metadata": {},
   "outputs": [
    {
     "data": {
      "text/plain": [
       "('Bernaloa', 'Chipana', 'Gomez', 'Navarro')"
      ]
     },
     "execution_count": 39,
     "metadata": {},
     "output_type": "execute_result"
    }
   ],
   "source": [
    "#1.2 TUPLAS\n",
    "tupla_aula = ('Bernaloa', 'Chipana', 'Gomez', 'Navarro')\n",
    "tupla_aula"
   ]
  },
  {
   "cell_type": "code",
   "execution_count": 41,
   "id": "aabb3c03-38ec-4d10-aaab-e19ca952bb1a",
   "metadata": {},
   "outputs": [
    {
     "data": {
      "text/plain": [
       "'Gomez'"
      ]
     },
     "execution_count": 41,
     "metadata": {},
     "output_type": "execute_result"
    }
   ],
   "source": [
    "tupla_aula[2]"
   ]
  },
  {
   "cell_type": "code",
   "execution_count": 45,
   "id": "26ccb871-53e5-4c4f-8f1a-1699ffa95ae6",
   "metadata": {},
   "outputs": [
    {
     "data": {
      "text/plain": [
       "4"
      ]
     },
     "execution_count": 45,
     "metadata": {},
     "output_type": "execute_result"
    }
   ],
   "source": [
    "len(tupla_aula)"
   ]
  },
  {
   "cell_type": "code",
   "execution_count": 47,
   "id": "bc33dea7-1a22-43ef-a65b-2059d0721d29",
   "metadata": {},
   "outputs": [
    {
     "data": {
      "text/plain": [
       "{'Bernaloa', 'Chipana', 'Gomez', 'Navarro'}"
      ]
     },
     "execution_count": 47,
     "metadata": {},
     "output_type": "execute_result"
    }
   ],
   "source": [
    "#1.3 Conjuntos \n",
    "#Es una colección de elementos que no está ordenado\n",
    "#(Significa que no tiene un índice) \n",
    "conjunto_aula = {'Bernaloa','Chipana', 'Gomez', 'Navarro'}\n",
    "conjunto_aula"
   ]
  },
  {
   "cell_type": "code",
   "execution_count": 49,
   "id": "2c122915-db84-41f3-ada1-4df83795630d",
   "metadata": {},
   "outputs": [
    {
     "name": "stdout",
     "output_type": "stream",
     "text": [
      "Bernaloa\n",
      "Chipana\n",
      "Gomez\n",
      "Navarro\n"
     ]
    }
   ],
   "source": [
    "for alumno in conjunto_aula:\n",
    "    print(alumno)"
   ]
  },
  {
   "cell_type": "code",
   "execution_count": null,
   "id": "1e57f97c-503c-4f77-b9b4-bbe1a66086ac",
   "metadata": {},
   "outputs": [],
   "source": []
  },
  {
   "cell_type": "code",
   "execution_count": null,
   "id": "212e83fe-e031-4107-976e-948e4e128541",
   "metadata": {},
   "outputs": [],
   "source": []
  },
  {
   "cell_type": "code",
   "execution_count": null,
   "id": "239acff0-26da-46ab-a998-07cff1e9139e",
   "metadata": {},
   "outputs": [],
   "source": []
  }
 ],
 "metadata": {
  "kernelspec": {
   "display_name": "Python [conda env:base] *",
   "language": "python",
   "name": "conda-base-py"
  },
  "language_info": {
   "codemirror_mode": {
    "name": "ipython",
    "version": 3
   },
   "file_extension": ".py",
   "mimetype": "text/x-python",
   "name": "python",
   "nbconvert_exporter": "python",
   "pygments_lexer": "ipython3",
   "version": "3.12.7"
  }
 },
 "nbformat": 4,
 "nbformat_minor": 5
}
